{
 "cells": [
  {
   "cell_type": "markdown",
   "id": "684f151d",
   "metadata": {},
   "source": [
    "# 樣型識別作業 人工智慧研究所 M1161004 袁聖博"
   ]
  },
  {
   "cell_type": "code",
   "execution_count": 338,
   "id": "9c098d3e",
   "metadata": {
    "scrolled": true
   },
   "outputs": [],
   "source": [
    "from tensorflow.keras.datasets import mnist\n",
    "(train_images, train_labels), \\\n",
    "(test_images, test_labels)= mnist.load_data()"
   ]
  },
  {
   "cell_type": "markdown",
   "id": "63a44b5c",
   "metadata": {},
   "source": [
    "## 我想找7這個數字做我的訓練，隨便弄弄就弄了第40000個~"
   ]
  },
  {
   "cell_type": "code",
   "execution_count": 339,
   "id": "c50c1b5e",
   "metadata": {
    "scrolled": true
   },
   "outputs": [
    {
     "data": {
      "text/plain": [
       "array([[  0,   0,   0,   0,   0,   0,   0,   0,   0,   0,   0,   0,   0,\n",
       "          0,   0,   0,   0,   0,   0,   0,   0,   0,   0,   0,   0,   0,\n",
       "          0,   0],\n",
       "       [  0,   0,   0,   0,   0,   0,   0,   0,   0,   0,   0,   0,   0,\n",
       "          0,   0,   0,   0,   0,   0,   0,   0,   0,   0,   0,   0,   0,\n",
       "          0,   0],\n",
       "       [  0,   0,   0,   0,   0,   0,   0,   0,   0,   0,   0,   0,   0,\n",
       "          0,   0,   0,   0,   0,   0,   0,   0,   0,   0,   0,   0,   0,\n",
       "          0,   0],\n",
       "       [  0,   0,   0,   0,   0,   0,   0,   0,   0,   0,   0,   0,   0,\n",
       "          0,   0,   0,   0,   0,   0,   0,   0,   0,   0,   0,   0,   0,\n",
       "          0,   0],\n",
       "       [  0,   0,   0,   0,   0,   0,   0,   0,   0,   0,   0,   0,   0,\n",
       "          0,   0,   0,   0,   0,   0,   0,   0,   0,   0,   0,   0,   0,\n",
       "          0,   0],\n",
       "       [  0,   0,   0,   0,   0,   0,   0,   0,   0,   0,   0,   0,   0,\n",
       "          0,   0,   0,   0,   0,   0,   0,   0,   0,   0,   0,   0,   0,\n",
       "          0,   0],\n",
       "       [  0,   0,   0,   0,   0,   0,   0,   0,   0,   0,   0,   0,   0,\n",
       "          0,   0,   0,   0,   0,   0,   0,   0,   0,   0,   0,   0,   0,\n",
       "          0,   0],\n",
       "       [  0,   0,   0,   0,   0,   0,   0,   0,   0,   0,   0,   0,   0,\n",
       "          5,   4,   7,  43, 130, 173, 255, 255, 203,   9,   0,   0,   0,\n",
       "          0,   0],\n",
       "       [  0,   0,   0,   0,   0,   0,   0,   0,   2,  13,  31, 136, 136,\n",
       "        219, 196, 253, 253, 253, 253, 253, 253, 253,  18,   0,   0,   0,\n",
       "          0,   0],\n",
       "       [  0,   0,   0,   0,   0,   0,   0,   2, 103, 253, 253, 253, 253,\n",
       "        253, 253, 253, 253, 253, 253, 253, 253, 185,   8,   0,   0,   0,\n",
       "          0,   0],\n",
       "       [  0,   0,   0,   0,   0,   0,   0,   8, 177, 231, 253, 253, 253,\n",
       "        253, 235, 228, 236, 253, 253, 253, 195,  10,   0,   0,   0,   0,\n",
       "          0,   0],\n",
       "       [  0,   0,   0,   0,   0,   0,   0,   0,   0,  13, 177, 222, 198,\n",
       "         99,  27,   0, 150, 253, 253, 253, 139,   0,   0,   0,   0,   0,\n",
       "          0,   0],\n",
       "       [  0,   0,   0,   0,   0,   0,   0,   0,   0,   0,   0,   0,   0,\n",
       "          0,   0,  11, 207, 253, 253, 221,  26,   0,   0,   0,   0,   0,\n",
       "          0,   0],\n",
       "       [  0,   0,   0,   0,   0,   0,   0,   0,   0,   0,   0,   0,   0,\n",
       "          0,   0, 150, 253, 253, 253,  37,   0,   0,   0,   0,   0,   0,\n",
       "          0,   0],\n",
       "       [  0,   0,   0,   0,   0,   0,   0,   0,   0,   0,   0,   0,   0,\n",
       "          0,  68, 234, 253, 253, 194,  12,   0,   0,   0,   0,   0,   0,\n",
       "          0,   0],\n",
       "       [  0,   0,   0,   0,   0,   0,   0,   0,   0,   0,   0,   0,   0,\n",
       "         68, 234, 253, 253, 235,  69,   0,   0,   0,   0,   0,   0,   0,\n",
       "          0,   0],\n",
       "       [  0,   0,   0,   0,   0,   0,   0,   0,   0,   0,   0,   0,  13,\n",
       "        198, 253, 253, 253, 142,   0,   0,   0,   0,   0,   0,   0,   0,\n",
       "          0,   0],\n",
       "       [  0,   0,   0,   0,   0,   0,   0,   0,   0,   0,   0,   0,  50,\n",
       "        253, 253, 253, 163,  12,   0,   0,   0,   0,   0,   0,   0,   0,\n",
       "          0,   0],\n",
       "       [  0,   0,   0,   0,   0,   0,   0,   0,   0,   0,   0,  35, 209,\n",
       "        253, 253, 163,  12,   0,   0,   0,   0,   0,   0,   0,   0,   0,\n",
       "          0,   0],\n",
       "       [  0,   0,   0,   0,   0,   0,   0,   0,   0,   0,   0,  44, 253,\n",
       "        253, 203,  12,   0,   0,   0,   0,   0,   0,   0,   0,   0,   0,\n",
       "          0,   0],\n",
       "       [  0,   0,   0,   0,   0,   0,   0,   0,   0,   0,  74, 218, 253,\n",
       "        253, 148,   0,   0,   0,   0,   0,   0,   0,   0,   0,   0,   0,\n",
       "          0,   0],\n",
       "       [  0,   0,   0,   0,   0,   0,   0,   0,   0,  12, 195, 253, 253,\n",
       "        160,  10,   0,   0,   0,   0,   0,   0,   0,   0,   0,   0,   0,\n",
       "          0,   0],\n",
       "       [  0,   0,   0,   0,   0,   0,   0,   0,  10, 179, 253, 253, 234,\n",
       "         45,   0,   0,   0,   0,   0,   0,   0,   0,   0,   0,   0,   0,\n",
       "          0,   0],\n",
       "       [  0,   0,   0,   0,   0,   0,   0,   8, 181, 253, 253, 235,  59,\n",
       "          0,   0,   0,   0,   0,   0,   0,   0,   0,   0,   0,   0,   0,\n",
       "          0,   0],\n",
       "       [  0,   0,   0,   0,   0,   0,   0,  74, 253, 253, 253, 210,   0,\n",
       "          0,   0,   0,   0,   0,   0,   0,   0,   0,   0,   0,   0,   0,\n",
       "          0,   0],\n",
       "       [  0,   0,   0,   0,   0,   0,   0, 143, 253, 253, 100,  10,   0,\n",
       "          0,   0,   0,   0,   0,   0,   0,   0,   0,   0,   0,   0,   0,\n",
       "          0,   0],\n",
       "       [  0,   0,   0,   0,   0,   0,   0,  22, 253, 253, 153,   0,   0,\n",
       "          0,   0,   0,   0,   0,   0,   0,   0,   0,   0,   0,   0,   0,\n",
       "          0,   0],\n",
       "       [  0,   0,   0,   0,   0,   0,   0,   0,   0,   0,   0,   0,   0,\n",
       "          0,   0,   0,   0,   0,   0,   0,   0,   0,   0,   0,   0,   0,\n",
       "          0,   0]], dtype=uint8)"
      ]
     },
     "execution_count": 339,
     "metadata": {},
     "output_type": "execute_result"
    }
   ],
   "source": [
    "x= train_images[40000]\n",
    "x"
   ]
  },
  {
   "cell_type": "markdown",
   "id": "9c261249",
   "metadata": {},
   "source": [
    "## 顯示數字7的圖片"
   ]
  },
  {
   "cell_type": "code",
   "execution_count": 340,
   "id": "9b32cf28",
   "metadata": {},
   "outputs": [
    {
     "data": {
      "text/plain": [
       "<matplotlib.image.AxesImage at 0x160942d74c0>"
      ]
     },
     "execution_count": 340,
     "metadata": {},
     "output_type": "execute_result"
    },
    {
     "data": {
      "image/png": "[encoded data removed]",
      "text/plain": [
       "<Figure size 432x288 with 1 Axes>"
      ]
     },
     "metadata": {
      "needs_background": "light"
     },
     "output_type": "display_data"
    }
   ],
   "source": [
    "import matplotlib.pyplot as pl\n",
    "pl.imshow(x)"
   ]
  },
  {
   "cell_type": "code",
   "execution_count": null,
   "id": "f911397f",
   "metadata": {},
   "outputs": [],
   "source": []
  },
  {
   "cell_type": "code",
   "execution_count": 341,
   "id": "b8ccd04b",
   "metadata": {},
   "outputs": [
    {
     "name": "stdout",
     "output_type": "stream",
     "text": [
      "  0  0  0  0  0  0  0  0  0  0  0  0  0  0  0  0  0  0  0  0  0  0  0  0  0  0  0  0\n",
      "  0  0  0  0  0  0  0  0  0  0  0  0  0  0  0  0  0  0  0  0  0  0  0  0  0  0  0  0\n",
      "  0  0  0  0  0  0  0  0  0  0  0  0  0  0  0  0  0  0  0  0  0  0  0  0  0  0  0  0\n",
      "  0  0  0  0  0  0  0  0  0  0  0  0  0  0  0  0  0  0  0  0  0  0  0  0  0  0  0  0\n",
      "  0  0  0  0  0  0  0  0  0  0  0  0  0  0  0  0  0  0  0  0  0  0  0  0  0  0  0  0\n",
      "  0  0  0  0  0  0  0  0  0  0  0  0  0  0  0  0  0  0  0  0  0  0  0  0  0  0  0  0\n",
      "  0  0  0  0  0  0  0  0  0  0  0  0  0  0  0  0  0  0  0  0  0  0  0  0  0  0  0  0\n",
      "  0  0  0  0  0  0  0  0  0  0  0  0  0  5  4  7 43130173255255203  9  0  0  0  0  0\n",
      "  0  0  0  0  0  0  0  0  2 13 31136136219196253253253253253253253 18  0  0  0  0  0\n",
      "  0  0  0  0  0  0  0  2103253253253253253253253253253253253253185  8  0  0  0  0  0\n",
      "  0  0  0  0  0  0  0  8177231253253253253235228236253253253195 10  0  0  0  0  0  0\n",
      "  0  0  0  0  0  0  0  0  0 13177222198 99 27  0150253253253139  0  0  0  0  0  0  0\n",
      "  0  0  0  0  0  0  0  0  0  0  0  0  0  0  0 11207253253221 26  0  0  0  0  0  0  0\n",
      "  0  0  0  0  0  0  0  0  0  0  0  0  0  0  0150253253253 37  0  0  0  0  0  0  0  0\n",
      "  0  0  0  0  0  0  0  0  0  0  0  0  0  0 68234253253194 12  0  0  0  0  0  0  0  0\n",
      "  0  0  0  0  0  0  0  0  0  0  0  0  0 68234253253235 69  0  0  0  0  0  0  0  0  0\n",
      "  0  0  0  0  0  0  0  0  0  0  0  0 13198253253253142  0  0  0  0  0  0  0  0  0  0\n",
      "  0  0  0  0  0  0  0  0  0  0  0  0 50253253253163 12  0  0  0  0  0  0  0  0  0  0\n",
      "  0  0  0  0  0  0  0  0  0  0  0 35209253253163 12  0  0  0  0  0  0  0  0  0  0  0\n",
      "  0  0  0  0  0  0  0  0  0  0  0 44253253203 12  0  0  0  0  0  0  0  0  0  0  0  0\n",
      "  0  0  0  0  0  0  0  0  0  0 74218253253148  0  0  0  0  0  0  0  0  0  0  0  0  0\n",
      "  0  0  0  0  0  0  0  0  0 12195253253160 10  0  0  0  0  0  0  0  0  0  0  0  0  0\n",
      "  0  0  0  0  0  0  0  0 10179253253234 45  0  0  0  0  0  0  0  0  0  0  0  0  0  0\n",
      "  0  0  0  0  0  0  0  8181253253235 59  0  0  0  0  0  0  0  0  0  0  0  0  0  0  0\n",
      "  0  0  0  0  0  0  0 74253253253210  0  0  0  0  0  0  0  0  0  0  0  0  0  0  0  0\n",
      "  0  0  0  0  0  0  0143253253100 10  0  0  0  0  0  0  0  0  0  0  0  0  0  0  0  0\n",
      "  0  0  0  0  0  0  0 22253253153  0  0  0  0  0  0  0  0  0  0  0  0  0  0  0  0  0\n",
      "  0  0  0  0  0  0  0  0  0  0  0  0  0  0  0  0  0  0  0  0  0  0  0  0  0  0  0  0\n"
     ]
    }
   ],
   "source": [
    "for i in range(28):\n",
    "    for j in range(28):\n",
    "        z= x[i,j]\n",
    "        print(f'{z:3d}', end='')\n",
    "    print()"
   ]
  },
  {
   "cell_type": "code",
   "execution_count": 342,
   "id": "90a6a0fa",
   "metadata": {},
   "outputs": [
    {
     "data": {
      "text/plain": [
       "7"
      ]
     },
     "execution_count": 342,
     "metadata": {},
     "output_type": "execute_result"
    }
   ],
   "source": [
    "y= train_labels[40000]\n",
    "y"
   ]
  },
  {
   "cell_type": "code",
   "execution_count": 343,
   "id": "5b74b661",
   "metadata": {},
   "outputs": [
    {
     "data": {
      "text/plain": [
       "array([7, 2, 1, ..., 4, 5, 6], dtype=uint8)"
      ]
     },
     "execution_count": 343,
     "metadata": {},
     "output_type": "execute_result"
    }
   ],
   "source": [
    "train_images.shape\n",
    "len(train_labels)\n",
    "train_labels\n",
    "test_images.shape\n",
    "len(test_labels)\n",
    "test_labels"
   ]
  },
  {
   "cell_type": "code",
   "execution_count": 344,
   "id": "63d865f7",
   "metadata": {},
   "outputs": [],
   "source": [
    "from tensorflow import keras\n",
    "from tensorflow.keras import layers\n",
    "\n",
    "model= keras.Sequential([\n",
    "    layers.Dense(512, activation=\"relu\"),\n",
    "    layers.Dense(10, activation=\"softmax\")\n",
    "])"
   ]
  },
  {
   "cell_type": "code",
   "execution_count": 345,
   "id": "a075b749",
   "metadata": {},
   "outputs": [],
   "source": [
    "x= layers.Dense(512, activation=\"relu\")"
   ]
  },
  {
   "cell_type": "code",
   "execution_count": null,
   "id": "739f4d2c",
   "metadata": {},
   "outputs": [],
   "source": []
  },
  {
   "cell_type": "code",
   "execution_count": null,
   "id": "3b6df856",
   "metadata": {},
   "outputs": [],
   "source": []
  },
  {
   "cell_type": "code",
   "execution_count": null,
   "id": "dc2db1d7",
   "metadata": {},
   "outputs": [],
   "source": []
  },
  {
   "cell_type": "code",
   "execution_count": 346,
   "id": "bcebed31",
   "metadata": {},
   "outputs": [],
   "source": [
    "# https://keras.io/api/layers/\n",
    "import tensorflow       as     tf\n",
    "from   tensorflow       import keras\n",
    "from   tensorflow.keras import layers\n",
    "#from keras.utils import plot_model\n",
    "#import pydot,graphviz\n",
    "#from IPython.display import Image\n",
    "\n",
    "x=      tf.random.uniform(shape=(1,100))\n",
    "\n",
    "iLayer= keras.Input((1, 28*28), name= 'ryInput')\n",
    "aLayer= layers.Dense(30, activation= 'relu', name='a')\n",
    "bLayer= layers.Dense(20, activation= 'relu', name='b')\n",
    "cLayer= layers.Dense(10, activation= 'relu', name='c')\n",
    "\n",
    "#y1=      cLayer(bLayer(aLayer(x)))"
   ]
  },
  {
   "cell_type": "code",
   "execution_count": 347,
   "id": "ae979151",
   "metadata": {},
   "outputs": [],
   "source": [
    "aLayerL= [\n",
    "    iLayer,\n",
    "    aLayer,\n",
    "    bLayer,\n",
    "    cLayer\n",
    "]\n",
    "\n",
    "model= keras.Sequential(aLayerL)"
   ]
  },
  {
   "cell_type": "code",
   "execution_count": 348,
   "id": "d9919ab7",
   "metadata": {},
   "outputs": [],
   "source": [
    "x= train_images[0]\n",
    "x= x.reshape(1,1,-1)"
   ]
  },
  {
   "cell_type": "code",
   "execution_count": 349,
   "id": "313137a6",
   "metadata": {},
   "outputs": [
    {
     "name": "stdout",
     "output_type": "stream",
     "text": [
      "Model: \"sequential_24\"\n",
      "_________________________________________________________________\n",
      " Layer (type)                Output Shape              Param #   \n",
      "=================================================================\n",
      " a (Dense)                   (None, 1, 30)             23550     \n",
      "                                                                 \n",
      " b (Dense)                   (None, 1, 20)             620       \n",
      "                                                                 \n",
      " c (Dense)                   (None, 1, 10)             210       \n",
      "                                                                 \n",
      "=================================================================\n",
      "Total params: 24,380\n",
      "Trainable params: 24,380\n",
      "Non-trainable params: 0\n",
      "_________________________________________________________________\n"
     ]
    },
    {
     "data": {
      "image/png": "[encoded data removed]",
      "text/plain": [
       "<IPython.core.display.Image object>"
      ]
     },
     "execution_count": 349,
     "metadata": {},
     "output_type": "execute_result"
    }
   ],
   "source": [
    "y2= model(x)\n",
    "model.summary()\n",
    "keras.utils.plot_model(model,show_shapes=True)"
   ]
  },
  {
   "cell_type": "markdown",
   "id": "0c52fc26",
   "metadata": {},
   "source": [
    "## 訓練30次左右，準確率可以達到100%\n",
    "## 相對的，訓練愈多次，準確率可以維持100%左右"
   ]
  },
  {
   "cell_type": "code",
   "execution_count": 350,
   "id": "b7f1e626",
   "metadata": {},
   "outputs": [],
   "source": [
    "model.compile(optimizer=\"rmsprop\",\n",
    "              loss=\"sparse_categorical_crossentropy\",\n",
    "              metrics=[\"accuracy\"])"
   ]
  },
  {
   "cell_type": "code",
   "execution_count": 351,
   "id": "5477c067",
   "metadata": {},
   "outputs": [],
   "source": [
    "train_images= train_images.reshape((-1, 28 * 28))\n",
    "train_images= train_images.astype(\"float32\") / 255\n",
    "test_images=  test_images.reshape((-1, 28 * 28))\n",
    "test_images=  test_images.astype(\"float32\") / 255"
   ]
  },
  {
   "cell_type": "markdown",
   "id": "b2ab114f",
   "metadata": {},
   "source": [
    "### 我這邊把layers.Dense(10, activation=  'softmax', name='ryLn')這一段\n",
    "### 裡面的10改為128後,準確率加速提升"
   ]
  },
  {
   "cell_type": "code",
   "execution_count": 352,
   "id": "cea7a6db",
   "metadata": {},
   "outputs": [],
   "source": [
    "ryLayerL= [\n",
    "    layers.Dense(128, activation= 'relu',    name='ryL1'),\n",
    "    #layers.Dense(32, activation= 'relu',    name='ryL2'),\n",
    "    layers.Dense(128, activation=  'softmax', name='ryLn')\n",
    "]\n",
    "\n",
    "ryModel= keras.Sequential(ryLayerL)\n",
    "\n",
    "#x= train_images[0:1]\n",
    "#y= ryModel(x)\n",
    "#ryModel.summary()"
   ]
  },
  {
   "cell_type": "code",
   "execution_count": 353,
   "id": "ec372c00",
   "metadata": {},
   "outputs": [],
   "source": [
    "ryModel.compile(\n",
    "    optimizer=\"rmsprop\",\n",
    "    loss=     \"sparse_categorical_crossentropy\",\n",
    "    metrics= [\"accuracy\"]\n",
    ")"
   ]
  },
  {
   "cell_type": "code",
   "execution_count": 355,
   "id": "ff4e8a4c",
   "metadata": {},
   "outputs": [
    {
     "name": "stdout",
     "output_type": "stream",
     "text": [
      "Epoch 1/30\n",
      "313/313 - 1s - loss: 0.0018 - accuracy: 0.9997 - 795ms/epoch - 3ms/step\n",
      "Epoch 2/30\n",
      "313/313 - 1s - loss: 0.0017 - accuracy: 0.9998 - 788ms/epoch - 3ms/step\n",
      "Epoch 3/30\n",
      "313/313 - 1s - loss: 0.0014 - accuracy: 0.9999 - 734ms/epoch - 2ms/step\n",
      "Epoch 4/30\n",
      "313/313 - 1s - loss: 0.0011 - accuracy: 0.9999 - 722ms/epoch - 2ms/step\n",
      "Epoch 5/30\n",
      "313/313 - 1s - loss: 9.6172e-04 - accuracy: 0.9999 - 713ms/epoch - 2ms/step\n",
      "Epoch 6/30\n",
      "313/313 - 1s - loss: 7.6725e-04 - accuracy: 0.9999 - 721ms/epoch - 2ms/step\n",
      "Epoch 7/30\n",
      "313/313 - 1s - loss: 6.5941e-04 - accuracy: 0.9999 - 744ms/epoch - 2ms/step\n",
      "Epoch 8/30\n",
      "313/313 - 1s - loss: 5.9104e-04 - accuracy: 0.9999 - 729ms/epoch - 2ms/step\n",
      "Epoch 9/30\n",
      "313/313 - 1s - loss: 5.3983e-04 - accuracy: 0.9999 - 708ms/epoch - 2ms/step\n",
      "Epoch 10/30\n",
      "313/313 - 1s - loss: 4.3487e-04 - accuracy: 0.9999 - 721ms/epoch - 2ms/step\n",
      "Epoch 11/30\n",
      "313/313 - 1s - loss: 3.1433e-04 - accuracy: 1.0000 - 739ms/epoch - 2ms/step\n",
      "Epoch 12/30\n",
      "313/313 - 1s - loss: 2.9827e-04 - accuracy: 1.0000 - 733ms/epoch - 2ms/step\n",
      "Epoch 13/30\n",
      "313/313 - 1s - loss: 2.6413e-04 - accuracy: 1.0000 - 723ms/epoch - 2ms/step\n",
      "Epoch 14/30\n",
      "313/313 - 1s - loss: 2.6284e-04 - accuracy: 1.0000 - 716ms/epoch - 2ms/step\n",
      "Epoch 15/30\n",
      "313/313 - 1s - loss: 1.7393e-04 - accuracy: 1.0000 - 758ms/epoch - 2ms/step\n",
      "Epoch 16/30\n",
      "313/313 - 1s - loss: 2.2152e-04 - accuracy: 1.0000 - 765ms/epoch - 2ms/step\n",
      "Epoch 17/30\n",
      "313/313 - 1s - loss: 1.2929e-04 - accuracy: 1.0000 - 724ms/epoch - 2ms/step\n",
      "Epoch 18/30\n",
      "313/313 - 1s - loss: 8.8108e-05 - accuracy: 1.0000 - 726ms/epoch - 2ms/step\n",
      "Epoch 19/30\n",
      "313/313 - 1s - loss: 7.9816e-05 - accuracy: 1.0000 - 724ms/epoch - 2ms/step\n",
      "Epoch 20/30\n",
      "313/313 - 1s - loss: 7.9931e-05 - accuracy: 1.0000 - 724ms/epoch - 2ms/step\n",
      "Epoch 21/30\n",
      "313/313 - 1s - loss: 5.1881e-05 - accuracy: 1.0000 - 724ms/epoch - 2ms/step\n",
      "Epoch 22/30\n",
      "313/313 - 1s - loss: 4.9503e-05 - accuracy: 1.0000 - 740ms/epoch - 2ms/step\n",
      "Epoch 23/30\n",
      "313/313 - 1s - loss: 5.2562e-05 - accuracy: 1.0000 - 727ms/epoch - 2ms/step\n",
      "Epoch 24/30\n",
      "313/313 - 1s - loss: 2.8164e-05 - accuracy: 1.0000 - 738ms/epoch - 2ms/step\n",
      "Epoch 25/30\n",
      "313/313 - 1s - loss: 2.5143e-05 - accuracy: 1.0000 - 756ms/epoch - 2ms/step\n",
      "Epoch 26/30\n",
      "313/313 - 1s - loss: 2.2559e-05 - accuracy: 1.0000 - 735ms/epoch - 2ms/step\n",
      "Epoch 27/30\n",
      "313/313 - 1s - loss: 2.5115e-05 - accuracy: 1.0000 - 716ms/epoch - 2ms/step\n",
      "Epoch 28/30\n",
      "313/313 - 1s - loss: 3.9174e-05 - accuracy: 1.0000 - 732ms/epoch - 2ms/step\n",
      "Epoch 29/30\n",
      "313/313 - 1s - loss: 1.1562e-05 - accuracy: 1.0000 - 723ms/epoch - 2ms/step\n",
      "Epoch 30/30\n",
      "313/313 - 1s - loss: 1.8262e-05 - accuracy: 1.0000 - 739ms/epoch - 2ms/step\n"
     ]
    },
    {
     "data": {
      "text/plain": [
       "<keras.callbacks.History at 0x160978d77c0>"
      ]
     },
     "execution_count": 355,
     "metadata": {},
     "output_type": "execute_result"
    }
   ],
   "source": [
    "ryModel.fit(\n",
    "    train_images[:40000], \n",
    "    train_labels[:40000], \n",
    "    epochs= 30, \n",
    "    batch_size= 128,\n",
    "    verbose= 2\n",
    ")"
   ]
  },
  {
   "cell_type": "code",
   "execution_count": 356,
   "id": "a9214e08",
   "metadata": {},
   "outputs": [
    {
     "name": "stdout",
     "output_type": "stream",
     "text": [
      "1/1 [==============================] - 0s 60ms/step\n"
     ]
    },
    {
     "data": {
      "text/plain": [
       "array([6.9359288e-21, 5.5030340e-37, 1.0243568e-19, 9.3958561e-15,\n",
       "       0.0000000e+00, 7.7393387e-26, 0.0000000e+00, 1.0000000e+00,\n",
       "       1.6108835e-17, 2.9226708e-16, 1.6911308e-24, 3.7716512e-26,\n",
       "       5.5790560e-25, 1.1715960e-23, 1.2875707e-24, 1.6998901e-22,\n",
       "       4.6564285e-25, 2.5713865e-25, 5.8475616e-24, 7.2383668e-25,\n",
       "       4.4499995e-24, 2.2845710e-25, 4.5125975e-25, 2.2755341e-25,\n",
       "       7.5010560e-25, 1.2570732e-23, 1.6304748e-25, 8.3118132e-26,\n",
       "       3.8947069e-24, 2.6014591e-25, 6.8064013e-27, 9.6496779e-25,\n",
       "       3.7313843e-24, 9.6325294e-27, 2.1112734e-23, 2.4848333e-23,\n",
       "       8.0753861e-24, 3.7070650e-25, 4.4317856e-25, 1.1716535e-24,\n",
       "       1.5109952e-24, 2.7330354e-23, 2.6966512e-25, 2.1276030e-25,\n",
       "       1.0702995e-25, 9.7109034e-25, 3.7332495e-24, 3.4382715e-25,\n",
       "       1.4021840e-24, 1.6325224e-25, 5.9443820e-25, 3.2868198e-26,\n",
       "       9.6211182e-25, 2.1758249e-24, 5.8589459e-25, 6.0013890e-25,\n",
       "       5.0761848e-25, 3.6496199e-25, 2.9913627e-24, 1.1656802e-23,\n",
       "       1.3132499e-26, 1.5124766e-25, 4.5517061e-24, 3.7812351e-24,\n",
       "       2.4796998e-24, 4.9757414e-26, 1.9736886e-24, 4.9474453e-26,\n",
       "       1.2108580e-24, 1.7429297e-25, 5.0994000e-24, 7.1336759e-26,\n",
       "       6.6061856e-26, 2.9501808e-24, 4.9348594e-24, 8.0747654e-25,\n",
       "       8.8427886e-25, 2.7902675e-24, 4.9340474e-25, 2.3982959e-25,\n",
       "       1.6825269e-25, 6.2532745e-26, 4.7274989e-26, 1.4529554e-23,\n",
       "       1.7508148e-23, 2.7746769e-23, 3.5147110e-24, 2.3616169e-26,\n",
       "       1.1986099e-25, 2.6796506e-24, 1.1956064e-23, 4.7049947e-25,\n",
       "       1.8958201e-24, 1.5490005e-24, 2.4228121e-24, 2.5284062e-23,\n",
       "       1.0065354e-25, 1.8774158e-26, 2.8624692e-24, 1.0321953e-24,\n",
       "       1.0074541e-24, 2.9949023e-24, 1.1398843e-25, 1.5049832e-25,\n",
       "       4.3584214e-24, 4.8728124e-23, 1.9799326e-24, 2.1389074e-24,\n",
       "       3.0312343e-24, 3.0727372e-25, 9.5411075e-26, 9.9120333e-25,\n",
       "       2.6352991e-25, 3.1670732e-25, 1.4428409e-25, 1.1193817e-25,\n",
       "       2.6698427e-26, 1.8746402e-25, 3.4233664e-24, 1.0935179e-25,\n",
       "       4.9333320e-25, 2.7073504e-25, 1.9210287e-26, 1.0372234e-25,\n",
       "       3.4257310e-24, 3.0200170e-23, 2.8965299e-25, 1.3882881e-23],\n",
       "      dtype=float32)"
      ]
     },
     "execution_count": 356,
     "metadata": {},
     "output_type": "execute_result"
    }
   ],
   "source": [
    "test_digits= test_images[0:10]\n",
    "predictions= ryModel.predict(test_digits)\n",
    "predictions[0]"
   ]
  },
  {
   "cell_type": "code",
   "execution_count": 357,
   "id": "0a1f742c",
   "metadata": {},
   "outputs": [
    {
     "data": {
      "text/plain": [
       "7"
      ]
     },
     "execution_count": 357,
     "metadata": {},
     "output_type": "execute_result"
    }
   ],
   "source": [
    "predictions[0].argmax()"
   ]
  },
  {
   "cell_type": "code",
   "execution_count": 358,
   "id": "e83020c5",
   "metadata": {},
   "outputs": [
    {
     "data": {
      "text/plain": [
       "1.0"
      ]
     },
     "execution_count": 358,
     "metadata": {},
     "output_type": "execute_result"
    }
   ],
   "source": [
    "predictions[0][7]"
   ]
  },
  {
   "cell_type": "code",
   "execution_count": 359,
   "id": "4c1114ef",
   "metadata": {},
   "outputs": [
    {
     "data": {
      "text/plain": [
       "7"
      ]
     },
     "execution_count": 359,
     "metadata": {},
     "output_type": "execute_result"
    }
   ],
   "source": [
    "test_labels[0]"
   ]
  },
  {
   "cell_type": "code",
   "execution_count": 360,
   "id": "3494a191",
   "metadata": {},
   "outputs": [
    {
     "name": "stdout",
     "output_type": "stream",
     "text": [
      "313/313 [==============================] - 1s 3ms/step - loss: 0.1713 - accuracy: 0.9790\n",
      "test_acc: 0.9789999723434448\n"
     ]
    }
   ],
   "source": [
    "test_loss, test_acc = ryModel.evaluate(test_images, test_labels)\n",
    "print(f\"test_acc: {test_acc}\")"
   ]
  },
  {
   "cell_type": "markdown",
   "id": "5fd7d2a0",
   "metadata": {},
   "source": [
    "## 上課筆記~ \n",
    "### 筆記人 我的超人XD"
   ]
  },
  {
   "cell_type": "code",
   "execution_count": 223,
   "id": "9a977c8d",
   "metadata": {},
   "outputs": [
    {
     "name": "stdout",
     "output_type": "stream",
     "text": [
      "[[[1, 2], [3, 4]], [[5, 6], [7, 8]]]\n"
     ]
    }
   ],
   "source": [
    "x= [[[1,2], \n",
    "     [3,4]],\n",
    "    [[5,6], \n",
    "     [7,8]]]\n",
    "print(x)"
   ]
  },
  {
   "cell_type": "code",
   "execution_count": 224,
   "id": "a376fcf4",
   "metadata": {},
   "outputs": [
    {
     "name": "stdout",
     "output_type": "stream",
     "text": [
      "[[[[1, 2], [3, 4]], [[5, 6], [7, 8]]], [[[9, 10], [11, 12]], [[13, 14], [15, 16]]]]\n"
     ]
    }
   ],
   "source": [
    "x= [[[[1,2], \n",
    "      [3,4]],\n",
    "     [[5,6], \n",
    "      [7,8]]],\n",
    "    [[[9,10], \n",
    "      [11,12]],\n",
    "     [[13,14], \n",
    "      [15,16]]]]\n",
    "print(x)"
   ]
  },
  {
   "cell_type": "code",
   "execution_count": 225,
   "id": "bf61cb2d",
   "metadata": {},
   "outputs": [
    {
     "name": "stdout",
     "output_type": "stream",
     "text": [
      "[[[[1], [1]], [[1], [1]]], [[[1], [1]], [[1], [1]]]]\n"
     ]
    }
   ],
   "source": [
    "x= 1\n",
    "a= [x]\n",
    "b= [a,a]\n",
    "c= [b,b]\n",
    "d= [c,c]\n",
    "print(d)"
   ]
  },
  {
   "cell_type": "code",
   "execution_count": 226,
   "id": "3c93970f",
   "metadata": {},
   "outputs": [
    {
     "data": {
      "text/plain": [
       "(1, 2)"
      ]
     },
     "execution_count": 226,
     "metadata": {},
     "output_type": "execute_result"
    }
   ],
   "source": [
    "x, x*2"
   ]
  },
  {
   "cell_type": "code",
   "execution_count": 227,
   "id": "69ee2038",
   "metadata": {},
   "outputs": [
    {
     "data": {
      "text/plain": [
       "([1], [1, 1])"
      ]
     },
     "execution_count": 227,
     "metadata": {},
     "output_type": "execute_result"
    }
   ],
   "source": [
    "a, a*2"
   ]
  },
  {
   "cell_type": "code",
   "execution_count": 228,
   "id": "270e2fd5",
   "metadata": {},
   "outputs": [
    {
     "data": {
      "text/plain": [
       "[[[[1], [1]], [[1], [1]]],\n",
       " [[[1], [1]], [[1], [1]]],\n",
       " [[[1], [1]], [[1], [1]]],\n",
       " [[[1], [1]], [[1], [1]]]]"
      ]
     },
     "execution_count": 228,
     "metadata": {},
     "output_type": "execute_result"
    }
   ],
   "source": [
    "d*2"
   ]
  },
  {
   "cell_type": "code",
   "execution_count": 231,
   "id": "13f8a4a6",
   "metadata": {},
   "outputs": [
    {
     "data": {
      "text/plain": [
       "array([[[[100],\n",
       "         [100]],\n",
       "\n",
       "        [[100],\n",
       "         [100]]],\n",
       "\n",
       "\n",
       "       [[[100],\n",
       "         [100]],\n",
       "\n",
       "        [[100],\n",
       "         [100]]]])"
      ]
     },
     "execution_count": 231,
     "metadata": {},
     "output_type": "execute_result"
    }
   ],
   "source": [
    "import numpy as np\n",
    "np.array(d)*100"
   ]
  },
  {
   "cell_type": "markdown",
   "id": "bee42680",
   "metadata": {},
   "source": [
    "## 無情五階"
   ]
  },
  {
   "cell_type": "code",
   "execution_count": 233,
   "id": "9f82c2b4",
   "metadata": {},
   "outputs": [
    {
     "data": {
      "text/plain": [
       "([0,\n",
       "  1,\n",
       "  2,\n",
       "  3,\n",
       "  4,\n",
       "  5,\n",
       "  6,\n",
       "  7,\n",
       "  8,\n",
       "  9,\n",
       "  10,\n",
       "  11,\n",
       "  12,\n",
       "  13,\n",
       "  14,\n",
       "  15,\n",
       "  16,\n",
       "  17,\n",
       "  18,\n",
       "  19,\n",
       "  20,\n",
       "  21,\n",
       "  22,\n",
       "  23,\n",
       "  24,\n",
       "  25,\n",
       "  26,\n",
       "  27,\n",
       "  28,\n",
       "  29,\n",
       "  30,\n",
       "  31,\n",
       "  32,\n",
       "  33,\n",
       "  34,\n",
       "  35,\n",
       "  36,\n",
       "  37,\n",
       "  38,\n",
       "  39,\n",
       "  40,\n",
       "  41,\n",
       "  42,\n",
       "  43,\n",
       "  44,\n",
       "  45,\n",
       "  46,\n",
       "  47,\n",
       "  48,\n",
       "  49,\n",
       "  50,\n",
       "  51,\n",
       "  52,\n",
       "  53,\n",
       "  54,\n",
       "  55,\n",
       "  56,\n",
       "  57,\n",
       "  58,\n",
       "  59,\n",
       "  60,\n",
       "  61,\n",
       "  62,\n",
       "  63,\n",
       "  64,\n",
       "  65,\n",
       "  66,\n",
       "  67,\n",
       "  68,\n",
       "  69,\n",
       "  70,\n",
       "  71,\n",
       "  72,\n",
       "  73,\n",
       "  74,\n",
       "  75,\n",
       "  76,\n",
       "  77,\n",
       "  78,\n",
       "  79,\n",
       "  80,\n",
       "  81,\n",
       "  82,\n",
       "  83,\n",
       "  84,\n",
       "  85,\n",
       "  86,\n",
       "  87,\n",
       "  88,\n",
       "  89,\n",
       "  90,\n",
       "  91,\n",
       "  92,\n",
       "  93,\n",
       "  94,\n",
       "  95,\n",
       "  96,\n",
       "  97,\n",
       "  98,\n",
       "  99,\n",
       "  100,\n",
       "  101,\n",
       "  102,\n",
       "  103,\n",
       "  104,\n",
       "  105,\n",
       "  106,\n",
       "  107,\n",
       "  108,\n",
       "  109,\n",
       "  110,\n",
       "  111,\n",
       "  112,\n",
       "  113,\n",
       "  114,\n",
       "  115,\n",
       "  116,\n",
       "  117,\n",
       "  118,\n",
       "  119],\n",
       " array([[[[[  0,   1,   2,   3,   4],\n",
       "           [  5,   6,   7,   8,   9],\n",
       "           [ 10,  11,  12,  13,  14],\n",
       "           [ 15,  16,  17,  18,  19]],\n",
       " \n",
       "          [[ 20,  21,  22,  23,  24],\n",
       "           [ 25,  26,  27,  28,  29],\n",
       "           [ 30,  31,  32,  33,  34],\n",
       "           [ 35,  36,  37,  38,  39]],\n",
       " \n",
       "          [[ 40,  41,  42,  43,  44],\n",
       "           [ 45,  46,  47,  48,  49],\n",
       "           [ 50,  51,  52,  53,  54],\n",
       "           [ 55,  56,  57,  58,  59]]],\n",
       " \n",
       " \n",
       "         [[[ 60,  61,  62,  63,  64],\n",
       "           [ 65,  66,  67,  68,  69],\n",
       "           [ 70,  71,  72,  73,  74],\n",
       "           [ 75,  76,  77,  78,  79]],\n",
       " \n",
       "          [[ 80,  81,  82,  83,  84],\n",
       "           [ 85,  86,  87,  88,  89],\n",
       "           [ 90,  91,  92,  93,  94],\n",
       "           [ 95,  96,  97,  98,  99]],\n",
       " \n",
       "          [[100, 101, 102, 103, 104],\n",
       "           [105, 106, 107, 108, 109],\n",
       "           [110, 111, 112, 113, 114],\n",
       "           [115, 116, 117, 118, 119]]]]]))"
      ]
     },
     "execution_count": 233,
     "metadata": {},
     "output_type": "execute_result"
    }
   ],
   "source": [
    "xL= [i \n",
    "    for i in range(1*2*3*4*5)]\n",
    "xA= np.array(xL)\n",
    "xA= xA.reshape(1,2,3,4,5)\n",
    "xL, xA"
   ]
  },
  {
   "cell_type": "code",
   "execution_count": 234,
   "id": "5e692e75",
   "metadata": {},
   "outputs": [
    {
     "data": {
      "text/plain": [
       "[[[[[0, 1, 2, 3, 4],\n",
       "    [5, 6, 7, 8, 9],\n",
       "    [10, 11, 12, 13, 14],\n",
       "    [15, 16, 17, 18, 19]],\n",
       "   [[20, 21, 22, 23, 24],\n",
       "    [25, 26, 27, 28, 29],\n",
       "    [30, 31, 32, 33, 34],\n",
       "    [35, 36, 37, 38, 39]],\n",
       "   [[40, 41, 42, 43, 44],\n",
       "    [45, 46, 47, 48, 49],\n",
       "    [50, 51, 52, 53, 54],\n",
       "    [55, 56, 57, 58, 59]]],\n",
       "  [[[60, 61, 62, 63, 64],\n",
       "    [65, 66, 67, 68, 69],\n",
       "    [70, 71, 72, 73, 74],\n",
       "    [75, 76, 77, 78, 79]],\n",
       "   [[80, 81, 82, 83, 84],\n",
       "    [85, 86, 87, 88, 89],\n",
       "    [90, 91, 92, 93, 94],\n",
       "    [95, 96, 97, 98, 99]],\n",
       "   [[100, 101, 102, 103, 104],\n",
       "    [105, 106, 107, 108, 109],\n",
       "    [110, 111, 112, 113, 114],\n",
       "    [115, 116, 117, 118, 119]]]]]"
      ]
     },
     "execution_count": 234,
     "metadata": {},
     "output_type": "execute_result"
    }
   ],
   "source": [
    "xLL= xA.tolist()\n",
    "xLL"
   ]
  },
  {
   "cell_type": "code",
   "execution_count": 235,
   "id": "c60d333c",
   "metadata": {},
   "outputs": [],
   "source": [
    "q= [[[ 0,  1,  2,  3], \n",
    "     [ 4,  5,  6,  7], \n",
    "     [ 8,  9, 10, 11]],\n",
    "    [[12, 13, 14, 15], \n",
    "     [16, 17, 18, 19], \n",
    "     [20, 21, 22, 23]]]"
   ]
  },
  {
   "cell_type": "code",
   "execution_count": 237,
   "id": "dc74709b",
   "metadata": {},
   "outputs": [
    {
     "data": {
      "text/plain": [
       "(3, 20, 1)"
      ]
     },
     "execution_count": 237,
     "metadata": {},
     "output_type": "execute_result"
    }
   ],
   "source": [
    "q= xA[:,0,0] # axis= 0\n",
    "q.ndim, q.size, len(q)"
   ]
  },
  {
   "cell_type": "code",
   "execution_count": 238,
   "id": "73b582d9",
   "metadata": {},
   "outputs": [
    {
     "data": {
      "text/plain": [
       "(3, 40, 2)"
      ]
     },
     "execution_count": 238,
     "metadata": {},
     "output_type": "execute_result"
    }
   ],
   "source": [
    "q= xA[0,:,0] # axis= 1\n",
    "q.ndim, q.size, len(q)"
   ]
  },
  {
   "cell_type": "code",
   "execution_count": 239,
   "id": "00c2dcc7",
   "metadata": {},
   "outputs": [
    {
     "data": {
      "text/plain": [
       "(3, 60, 3)"
      ]
     },
     "execution_count": 239,
     "metadata": {},
     "output_type": "execute_result"
    }
   ],
   "source": [
    "q= xA[0,0,:] # axis= 2\n",
    "q.ndim, q.size, len(q)"
   ]
  },
  {
   "cell_type": "code",
   "execution_count": 240,
   "id": "151d6acf",
   "metadata": {},
   "outputs": [
    {
     "data": {
      "text/plain": [
       "(4, 40, 1)"
      ]
     },
     "execution_count": 240,
     "metadata": {},
     "output_type": "execute_result"
    }
   ],
   "source": [
    "q= xA[:,:,0] # axes= 01\n",
    "q.ndim, q.size, len(q)"
   ]
  },
  {
   "cell_type": "code",
   "execution_count": 241,
   "id": "569f2846",
   "metadata": {},
   "outputs": [
    {
     "data": {
      "text/plain": [
       "(4, 60, 1)"
      ]
     },
     "execution_count": 241,
     "metadata": {},
     "output_type": "execute_result"
    }
   ],
   "source": [
    "q= xA[:,0,:] # axes= 02\n",
    "q.ndim, q.size, len(q)"
   ]
  },
  {
   "cell_type": "code",
   "execution_count": 242,
   "id": "4f193c41",
   "metadata": {},
   "outputs": [
    {
     "data": {
      "text/plain": [
       "(4, 120, 2)"
      ]
     },
     "execution_count": 242,
     "metadata": {},
     "output_type": "execute_result"
    }
   ],
   "source": [
    "q= xA[0,:,:] # axes= 12\n",
    "q.ndim, q.size, len(q)"
   ]
  },
  {
   "cell_type": "code",
   "execution_count": 243,
   "id": "cfb84471",
   "metadata": {},
   "outputs": [
    {
     "data": {
      "text/plain": [
       "(5, 120, 1, (1, 2, 3, 4, 5))"
      ]
     },
     "execution_count": 243,
     "metadata": {},
     "output_type": "execute_result"
    }
   ],
   "source": [
    "q= xA[:,:,:] # axes= 012\n",
    "q.ndim, q.size, len(q), q.shape"
   ]
  },
  {
   "cell_type": "code",
   "execution_count": 244,
   "id": "f2af4617",
   "metadata": {},
   "outputs": [
    {
     "data": {
      "text/plain": [
       "((1, 2, 3, 4, 5), True, True, True)"
      ]
     },
     "execution_count": 244,
     "metadata": {},
     "output_type": "execute_result"
    }
   ],
   "source": [
    "q.shape,\\\n",
    "q.ndim == len(q.shape), \\\n",
    "len(q) == q.shape[0], \\\n",
    "q.size == np.prod(q.shape)"
   ]
  },
  {
   "cell_type": "code",
   "execution_count": 245,
   "id": "4e1790d8",
   "metadata": {},
   "outputs": [
    {
     "data": {
      "text/plain": [
       "dtype('int32')"
      ]
     },
     "execution_count": 245,
     "metadata": {},
     "output_type": "execute_result"
    }
   ],
   "source": [
    "q.dtype"
   ]
  },
  {
   "cell_type": "code",
   "execution_count": 246,
   "id": "3cfc44a1",
   "metadata": {},
   "outputs": [
    {
     "data": {
      "text/plain": [
       "b'\\x00\\x00\\x00\\x00\\x01\\x00\\x00\\x00\\x02\\x00\\x00\\x00\\x03\\x00\\x00\\x00\\x04\\x00\\x00\\x00\\x05\\x00\\x00\\x00\\x06\\x00\\x00\\x00\\x07\\x00\\x00\\x00\\x08\\x00\\x00\\x00\\t\\x00\\x00\\x00\\n\\x00\\x00\\x00\\x0b\\x00\\x00\\x00\\x0c\\x00\\x00\\x00\\r\\x00\\x00\\x00\\x0e\\x00\\x00\\x00\\x0f\\x00\\x00\\x00\\x10\\x00\\x00\\x00\\x11\\x00\\x00\\x00\\x12\\x00\\x00\\x00\\x13\\x00\\x00\\x00\\x14\\x00\\x00\\x00\\x15\\x00\\x00\\x00\\x16\\x00\\x00\\x00\\x17\\x00\\x00\\x00\\x18\\x00\\x00\\x00\\x19\\x00\\x00\\x00\\x1a\\x00\\x00\\x00\\x1b\\x00\\x00\\x00\\x1c\\x00\\x00\\x00\\x1d\\x00\\x00\\x00\\x1e\\x00\\x00\\x00\\x1f\\x00\\x00\\x00 \\x00\\x00\\x00!\\x00\\x00\\x00\"\\x00\\x00\\x00#\\x00\\x00\\x00$\\x00\\x00\\x00%\\x00\\x00\\x00&\\x00\\x00\\x00\\'\\x00\\x00\\x00(\\x00\\x00\\x00)\\x00\\x00\\x00*\\x00\\x00\\x00+\\x00\\x00\\x00,\\x00\\x00\\x00-\\x00\\x00\\x00.\\x00\\x00\\x00/\\x00\\x00\\x000\\x00\\x00\\x001\\x00\\x00\\x002\\x00\\x00\\x003\\x00\\x00\\x004\\x00\\x00\\x005\\x00\\x00\\x006\\x00\\x00\\x007\\x00\\x00\\x008\\x00\\x00\\x009\\x00\\x00\\x00:\\x00\\x00\\x00;\\x00\\x00\\x00<\\x00\\x00\\x00=\\x00\\x00\\x00>\\x00\\x00\\x00?\\x00\\x00\\x00@\\x00\\x00\\x00A\\x00\\x00\\x00B\\x00\\x00\\x00C\\x00\\x00\\x00D\\x00\\x00\\x00E\\x00\\x00\\x00F\\x00\\x00\\x00G\\x00\\x00\\x00H\\x00\\x00\\x00I\\x00\\x00\\x00J\\x00\\x00\\x00K\\x00\\x00\\x00L\\x00\\x00\\x00M\\x00\\x00\\x00N\\x00\\x00\\x00O\\x00\\x00\\x00P\\x00\\x00\\x00Q\\x00\\x00\\x00R\\x00\\x00\\x00S\\x00\\x00\\x00T\\x00\\x00\\x00U\\x00\\x00\\x00V\\x00\\x00\\x00W\\x00\\x00\\x00X\\x00\\x00\\x00Y\\x00\\x00\\x00Z\\x00\\x00\\x00[\\x00\\x00\\x00\\\\\\x00\\x00\\x00]\\x00\\x00\\x00^\\x00\\x00\\x00_\\x00\\x00\\x00`\\x00\\x00\\x00a\\x00\\x00\\x00b\\x00\\x00\\x00c\\x00\\x00\\x00d\\x00\\x00\\x00e\\x00\\x00\\x00f\\x00\\x00\\x00g\\x00\\x00\\x00h\\x00\\x00\\x00i\\x00\\x00\\x00j\\x00\\x00\\x00k\\x00\\x00\\x00l\\x00\\x00\\x00m\\x00\\x00\\x00n\\x00\\x00\\x00o\\x00\\x00\\x00p\\x00\\x00\\x00q\\x00\\x00\\x00r\\x00\\x00\\x00s\\x00\\x00\\x00t\\x00\\x00\\x00u\\x00\\x00\\x00v\\x00\\x00\\x00w\\x00\\x00\\x00'"
      ]
     },
     "execution_count": 246,
     "metadata": {},
     "output_type": "execute_result"
    }
   ],
   "source": [
    "q.tobytes()"
   ]
  },
  {
   "cell_type": "code",
   "execution_count": 247,
   "id": "f40aa1cc",
   "metadata": {},
   "outputs": [
    {
     "data": {
      "text/plain": [
       "480"
      ]
     },
     "execution_count": 247,
     "metadata": {},
     "output_type": "execute_result"
    }
   ],
   "source": [
    "q.size*q.itemsize"
   ]
  },
  {
   "cell_type": "code",
   "execution_count": 249,
   "id": "6d541fc1",
   "metadata": {},
   "outputs": [
    {
     "data": {
      "text/plain": [
       "b'\\x00\\x00\\x00\\x00\\x01\\x00\\x00\\x00\\x02\\x00\\x00\\x00\\x03\\x00\\x00\\x00\\x04\\x00\\x00\\x00\\x05\\x00\\x00\\x00\\x06\\x00\\x00\\x00\\x07\\x00\\x00\\x00\\x08\\x00\\x00\\x00\\t\\x00\\x00\\x00\\n\\x00\\x00\\x00\\x0b\\x00\\x00\\x00\\x0c\\x00\\x00\\x00\\r\\x00\\x00\\x00\\x0e\\x00\\x00\\x00\\x0f\\x00\\x00\\x00\\x10\\x00\\x00\\x00\\x11\\x00\\x00\\x00\\x12\\x00\\x00\\x00\\x13\\x00\\x00\\x00\\x14\\x00\\x00\\x00\\x15\\x00\\x00\\x00\\x16\\x00\\x00\\x00\\x17\\x00\\x00\\x00\\x18\\x00\\x00\\x00\\x19\\x00\\x00\\x00\\x1a\\x00\\x00\\x00\\x1b\\x00\\x00\\x00\\x1c\\x00\\x00\\x00\\x1d\\x00\\x00\\x00\\x1e\\x00\\x00\\x00\\x1f\\x00\\x00\\x00 \\x00\\x00\\x00!\\x00\\x00\\x00\"\\x00\\x00\\x00#\\x00\\x00\\x00$\\x00\\x00\\x00%\\x00\\x00\\x00&\\x00\\x00\\x00\\'\\x00\\x00\\x00(\\x00\\x00\\x00)\\x00\\x00\\x00*\\x00\\x00\\x00+\\x00\\x00\\x00,\\x00\\x00\\x00-\\x00\\x00\\x00.\\x00\\x00\\x00/\\x00\\x00\\x000\\x00\\x00\\x001\\x00\\x00\\x002\\x00\\x00\\x003\\x00\\x00\\x004\\x00\\x00\\x005\\x00\\x00\\x006\\x00\\x00\\x007\\x00\\x00\\x008\\x00\\x00\\x009\\x00\\x00\\x00:\\x00\\x00\\x00;\\x00\\x00\\x00<\\x00\\x00\\x00=\\x00\\x00\\x00>\\x00\\x00\\x00?\\x00\\x00\\x00@\\x00\\x00\\x00A\\x00\\x00\\x00B\\x00\\x00\\x00C\\x00\\x00\\x00D\\x00\\x00\\x00E\\x00\\x00\\x00F\\x00\\x00\\x00G\\x00\\x00\\x00H\\x00\\x00\\x00I\\x00\\x00\\x00J\\x00\\x00\\x00K\\x00\\x00\\x00L\\x00\\x00\\x00M\\x00\\x00\\x00N\\x00\\x00\\x00O\\x00\\x00\\x00P\\x00\\x00\\x00Q\\x00\\x00\\x00R\\x00\\x00\\x00S\\x00\\x00\\x00T\\x00\\x00\\x00U\\x00\\x00\\x00V\\x00\\x00\\x00W\\x00\\x00\\x00X\\x00\\x00\\x00Y\\x00\\x00\\x00Z\\x00\\x00\\x00[\\x00\\x00\\x00\\\\\\x00\\x00\\x00]\\x00\\x00\\x00^\\x00\\x00\\x00_\\x00\\x00\\x00`\\x00\\x00\\x00a\\x00\\x00\\x00b\\x00\\x00\\x00c\\x00\\x00\\x00d\\x00\\x00\\x00e\\x00\\x00\\x00f\\x00\\x00\\x00g\\x00\\x00\\x00h\\x00\\x00\\x00i\\x00\\x00\\x00j\\x00\\x00\\x00k\\x00\\x00\\x00l\\x00\\x00\\x00m\\x00\\x00\\x00n\\x00\\x00\\x00o\\x00\\x00\\x00p\\x00\\x00\\x00q\\x00\\x00\\x00r\\x00\\x00\\x00s\\x00\\x00\\x00t\\x00\\x00\\x00u\\x00\\x00\\x00v\\x00\\x00\\x00w\\x00\\x00\\x00'"
      ]
     },
     "execution_count": 249,
     "metadata": {},
     "output_type": "execute_result"
    }
   ],
   "source": [
    "b'\\x00\\x00\\x00\\x00\\x01\\x00\\x00\\x00\\x02\\x00\\x00\\x00\\x03\\x00\\x00\\x00\\x04\\x00\\x00\\x00\\x05\\x00\\x00\\x00\\x06\\x00\\x00\\x00\\x07\\x00\\x00\\x00\\x08\\x00\\x00\\x00\\t\\x00\\x00\\x00\\n\\x00\\x00\\x00\\x0b\\x00\\x00\\x00\\x0c\\x00\\x00\\x00\\r\\x00\\x00\\x00\\x0e\\x00\\x00\\x00\\x0f\\x00\\x00\\x00\\x10\\x00\\x00\\x00\\x11\\x00\\x00\\x00\\x12\\x00\\x00\\x00\\x13\\x00\\x00\\x00\\x14\\x00\\x00\\x00\\x15\\x00\\x00\\x00\\x16\\x00\\x00\\x00\\x17\\x00\\x00\\x00\\x18\\x00\\x00\\x00\\x19\\x00\\x00\\x00\\x1a\\x00\\x00\\x00\\x1b\\x00\\x00\\x00\\x1c\\x00\\x00\\x00\\x1d\\x00\\x00\\x00\\x1e\\x00\\x00\\x00\\x1f\\x00\\x00\\x00 \\x00\\x00\\x00!\\x00\\x00\\x00\"\\x00\\x00\\x00#\\x00\\x00\\x00$\\x00\\x00\\x00%\\x00\\x00\\x00&\\x00\\x00\\x00\\'\\x00\\x00\\x00(\\x00\\x00\\x00)\\x00\\x00\\x00*\\x00\\x00\\x00+\\x00\\x00\\x00,\\x00\\x00\\x00-\\x00\\x00\\x00.\\x00\\x00\\x00/\\x00\\x00\\x000\\x00\\x00\\x001\\x00\\x00\\x002\\x00\\x00\\x003\\x00\\x00\\x004\\x00\\x00\\x005\\x00\\x00\\x006\\x00\\x00\\x007\\x00\\x00\\x008\\x00\\x00\\x009\\x00\\x00\\x00:\\x00\\x00\\x00;\\x00\\x00\\x00<\\x00\\x00\\x00=\\x00\\x00\\x00>\\x00\\x00\\x00?\\x00\\x00\\x00@\\x00\\x00\\x00A\\x00\\x00\\x00B\\x00\\x00\\x00C\\x00\\x00\\x00D\\x00\\x00\\x00E\\x00\\x00\\x00F\\x00\\x00\\x00G\\x00\\x00\\x00H\\x00\\x00\\x00I\\x00\\x00\\x00J\\x00\\x00\\x00K\\x00\\x00\\x00L\\x00\\x00\\x00M\\x00\\x00\\x00N\\x00\\x00\\x00O\\x00\\x00\\x00P\\x00\\x00\\x00Q\\x00\\x00\\x00R\\x00\\x00\\x00S\\x00\\x00\\x00T\\x00\\x00\\x00U\\x00\\x00\\x00V\\x00\\x00\\x00W\\x00\\x00\\x00X\\x00\\x00\\x00Y\\x00\\x00\\x00Z\\x00\\x00\\x00[\\x00\\x00\\x00\\\\\\x00\\x00\\x00]\\x00\\x00\\x00^\\x00\\x00\\x00_\\x00\\x00\\x00`\\x00\\x00\\x00a\\x00\\x00\\x00b\\x00\\x00\\x00c\\x00\\x00\\x00d\\x00\\x00\\x00e\\x00\\x00\\x00f\\x00\\x00\\x00g\\x00\\x00\\x00h\\x00\\x00\\x00i\\x00\\x00\\x00j\\x00\\x00\\x00k\\x00\\x00\\x00l\\x00\\x00\\x00m\\x00\\x00\\x00n\\x00\\x00\\x00o\\x00\\x00\\x00p\\x00\\x00\\x00q\\x00\\x00\\x00r\\x00\\x00\\x00s\\x00\\x00\\x00t\\x00\\x00\\x00u\\x00\\x00\\x00v\\x00\\x00\\x00w\\x00\\x00\\x00'"
   ]
  },
  {
   "cell_type": "code",
   "execution_count": 251,
   "id": "75c574f7",
   "metadata": {},
   "outputs": [
    {
     "data": {
      "text/plain": [
       "array(100)"
      ]
     },
     "execution_count": 251,
     "metadata": {},
     "output_type": "execute_result"
    }
   ],
   "source": [
    "import numpy as np\n",
    "x = np.array(100)\n",
    "x"
   ]
  },
  {
   "cell_type": "code",
   "execution_count": 252,
   "id": "dc26fb43",
   "metadata": {},
   "outputs": [
    {
     "data": {
      "text/plain": [
       "0"
      ]
     },
     "execution_count": 252,
     "metadata": {},
     "output_type": "execute_result"
    }
   ],
   "source": [
    "x.ndim"
   ]
  },
  {
   "cell_type": "code",
   "execution_count": 254,
   "id": "8b5a21be",
   "metadata": {},
   "outputs": [
    {
     "data": {
      "text/plain": [
       "array([  1,   3,   6, 154,   7])"
      ]
     },
     "execution_count": 254,
     "metadata": {},
     "output_type": "execute_result"
    }
   ],
   "source": [
    "x = np.array([1, 3, 6, 154, 7])\n",
    "x"
   ]
  },
  {
   "cell_type": "code",
   "execution_count": 255,
   "id": "1e651647",
   "metadata": {},
   "outputs": [
    {
     "data": {
      "text/plain": [
       "1"
      ]
     },
     "execution_count": 255,
     "metadata": {},
     "output_type": "execute_result"
    }
   ],
   "source": [
    "x.ndim"
   ]
  },
  {
   "cell_type": "code",
   "execution_count": 256,
   "id": "e6e565d1",
   "metadata": {},
   "outputs": [
    {
     "data": {
      "text/plain": [
       "2"
      ]
     },
     "execution_count": 256,
     "metadata": {},
     "output_type": "execute_result"
    }
   ],
   "source": [
    "x = np.array([[5, 78, 2, 34, 0],\n",
    "              [6, 79, 3, 35, 1],\n",
    "              [7, 80, 4, 36, 102]])\n",
    "x.ndim"
   ]
  },
  {
   "cell_type": "code",
   "execution_count": 262,
   "id": "26496abb",
   "metadata": {},
   "outputs": [
    {
     "data": {
      "text/plain": [
       "3"
      ]
     },
     "execution_count": 262,
     "metadata": {},
     "output_type": "execute_result"
    }
   ],
   "source": [
    "x = np.array([[[5, 78, 2, 34, 0],\n",
    "               [6, 79, 3, 35, 1],\n",
    "               [7, 80, 4, 36, 2]],\n",
    "              [[5, 78, 2, 34, 0],\n",
    "               [6, 79, 3, 35, 1],\n",
    "               [7, 80, 4, 36, 2]],\n",
    "              [[5, 78, 2, 34, 0],\n",
    "               [6, 79, 3, 35, 1],\n",
    "               [7, 80, 4, 36, 2]]])\n",
    "x.ndim"
   ]
  },
  {
   "cell_type": "code",
   "execution_count": 364,
   "id": "21910220",
   "metadata": {},
   "outputs": [],
   "source": [
    "from tensorflow.keras.datasets import mnist\n",
    "(train_images, train_labels), (test_images, test_labels) = mnist.load_data()"
   ]
  },
  {
   "cell_type": "code",
   "execution_count": 365,
   "id": "cf468959",
   "metadata": {},
   "outputs": [
    {
     "data": {
      "text/plain": [
       "3"
      ]
     },
     "execution_count": 365,
     "metadata": {},
     "output_type": "execute_result"
    }
   ],
   "source": [
    "train_images.ndim"
   ]
  },
  {
   "cell_type": "code",
   "execution_count": 373,
   "id": "576f590b",
   "metadata": {},
   "outputs": [
    {
     "data": {
      "text/plain": [
       "(60000, 28, 28)"
      ]
     },
     "execution_count": 373,
     "metadata": {},
     "output_type": "execute_result"
    }
   ],
   "source": [
    "train_images.shape"
   ]
  },
  {
   "cell_type": "code",
   "execution_count": 374,
   "id": "229d9c1f",
   "metadata": {},
   "outputs": [
    {
     "data": {
      "text/plain": [
       "dtype('uint8')"
      ]
     },
     "execution_count": 374,
     "metadata": {},
     "output_type": "execute_result"
    }
   ],
   "source": [
    "train_images.dtype"
   ]
  },
  {
   "cell_type": "code",
   "execution_count": 375,
   "id": "9ec73dea",
   "metadata": {},
   "outputs": [
    {
     "data": {
      "text/plain": [
       "47040000"
      ]
     },
     "execution_count": 375,
     "metadata": {},
     "output_type": "execute_result"
    }
   ],
   "source": [
    "train_images.size"
   ]
  },
  {
   "cell_type": "code",
   "execution_count": 376,
   "id": "07079b3f",
   "metadata": {},
   "outputs": [
    {
     "data": {
      "text/plain": [
       "47040000"
      ]
     },
     "execution_count": 376,
     "metadata": {},
     "output_type": "execute_result"
    }
   ],
   "source": [
    "train_images.nbytes"
   ]
  },
  {
   "cell_type": "code",
   "execution_count": 377,
   "id": "668c10f0",
   "metadata": {},
   "outputs": [
    {
     "data": {
      "text/plain": [
       "47040000"
      ]
     },
     "execution_count": 377,
     "metadata": {},
     "output_type": "execute_result"
    }
   ],
   "source": [
    "np.prod(train_images.shape)"
   ]
  },
  {
   "cell_type": "markdown",
   "id": "737c4b6f",
   "metadata": {},
   "source": [
    "# Displaying the 40 thousandth digit"
   ]
  },
  {
   "cell_type": "code",
   "execution_count": 378,
   "id": "d9139c5b",
   "metadata": {},
   "outputs": [
    {
     "data": {
      "image/png": "[encoded data removed]",
      "text/plain": [
       "<Figure size 432x288 with 1 Axes>"
      ]
     },
     "metadata": {
      "needs_background": "light"
     },
     "output_type": "display_data"
    }
   ],
   "source": [
    "import matplotlib.pyplot as plt\n",
    "digit = train_images[40000]\n",
    "plt.imshow(digit, cmap=plt.cm.binary)\n",
    "plt.show()"
   ]
  },
  {
   "cell_type": "code",
   "execution_count": 379,
   "id": "e4fa9ab8",
   "metadata": {},
   "outputs": [
    {
     "data": {
      "text/plain": [
       "7"
      ]
     },
     "execution_count": 379,
     "metadata": {},
     "output_type": "execute_result"
    }
   ],
   "source": [
    "train_labels[40000]"
   ]
  },
  {
   "cell_type": "code",
   "execution_count": 380,
   "id": "a4e4e562",
   "metadata": {},
   "outputs": [
    {
     "data": {
      "text/plain": [
       "(30000, 28, 28)"
      ]
     },
     "execution_count": 380,
     "metadata": {},
     "output_type": "execute_result"
    }
   ],
   "source": [
    "my_slice = train_images[10000:40000]\n",
    "my_slice.shape"
   ]
  },
  {
   "cell_type": "code",
   "execution_count": 273,
   "id": "06e397e7",
   "metadata": {},
   "outputs": [
    {
     "data": {
      "text/plain": [
       "(30000, 28, 28)"
      ]
     },
     "execution_count": 273,
     "metadata": {},
     "output_type": "execute_result"
    }
   ],
   "source": [
    "my_slice = train_images[10000:40000, :, :]\n",
    "my_slice.shape"
   ]
  },
  {
   "cell_type": "code",
   "execution_count": 274,
   "id": "f90a3a03",
   "metadata": {},
   "outputs": [
    {
     "data": {
      "text/plain": [
       "(30000, 28, 28)"
      ]
     },
     "execution_count": 274,
     "metadata": {},
     "output_type": "execute_result"
    }
   ],
   "source": [
    "my_slice = train_images[10000:40000, 0:28, 0:28]\n",
    "my_slice.shape"
   ]
  },
  {
   "cell_type": "code",
   "execution_count": 275,
   "id": "2bba1aee",
   "metadata": {},
   "outputs": [],
   "source": [
    "my_slice = train_images[:, 14:, 14:]"
   ]
  },
  {
   "cell_type": "code",
   "execution_count": 276,
   "id": "7d6b01a2",
   "metadata": {},
   "outputs": [],
   "source": [
    "my_slice = train_images[:, 7:-7, 7:-7]"
   ]
  },
  {
   "cell_type": "code",
   "execution_count": 277,
   "id": "bd909411",
   "metadata": {},
   "outputs": [],
   "source": [
    "batch = train_images[:128]"
   ]
  },
  {
   "cell_type": "code",
   "execution_count": 278,
   "id": "bb0c55fe",
   "metadata": {},
   "outputs": [],
   "source": [
    "batch = train_images[128:256]"
   ]
  },
  {
   "cell_type": "code",
   "execution_count": 279,
   "id": "89570407",
   "metadata": {},
   "outputs": [],
   "source": [
    "n = 3\n",
    "batch = train_images[128 * n:128 * (n + 1)]"
   ]
  },
  {
   "cell_type": "code",
   "execution_count": null,
   "id": "e36a1ffc",
   "metadata": {},
   "outputs": [],
   "source": []
  },
  {
   "cell_type": "code",
   "execution_count": 280,
   "id": "83b1e79a",
   "metadata": {},
   "outputs": [],
   "source": [
    "def naive_relu(x):\n",
    "    assert len(x.shape) == 2\n",
    "    x = x.copy()\n",
    "    for i in range(x.shape[0]):\n",
    "        for j in range(x.shape[1]):\n",
    "            x[i, j] = max(x[i, j], 0)\n",
    "    return x"
   ]
  },
  {
   "cell_type": "code",
   "execution_count": 281,
   "id": "5069331d",
   "metadata": {},
   "outputs": [],
   "source": [
    "def naive_add(x, y):\n",
    "    assert len(x.shape) == 2\n",
    "    assert x.shape == y.shape\n",
    "    x = x.copy()\n",
    "    for i in range(x.shape[0]):\n",
    "        for j in range(x.shape[1]):\n",
    "            x[i, j] += y[i, j]\n",
    "    return x"
   ]
  },
  {
   "cell_type": "code",
   "execution_count": 282,
   "id": "b0794c04",
   "metadata": {},
   "outputs": [
    {
     "name": "stdout",
     "output_type": "stream",
     "text": [
      "Took: 0.00 s\n"
     ]
    }
   ],
   "source": [
    "import time\n",
    "\n",
    "x = np.random.random((20, 100))\n",
    "y = np.random.random((20, 100))\n",
    "\n",
    "t0 = time.time()\n",
    "for _ in range(1000):\n",
    "    z = x + y\n",
    "    z = np.maximum(z, 0.)\n",
    "print(\"Took: {0:.2f} s\".format(time.time() - t0))"
   ]
  },
  {
   "cell_type": "code",
   "execution_count": 283,
   "id": "9e322d44",
   "metadata": {},
   "outputs": [
    {
     "name": "stdout",
     "output_type": "stream",
     "text": [
      "Took: 1.42 s\n"
     ]
    }
   ],
   "source": [
    "t0 = time.time()\n",
    "for _ in range(1000):\n",
    "    z = naive_add(x, y)\n",
    "    z = naive_relu(z)\n",
    "print(\"Took: {0:.2f} s\".format(time.time() - t0))"
   ]
  },
  {
   "cell_type": "code",
   "execution_count": null,
   "id": "a3e5aceb",
   "metadata": {},
   "outputs": [],
   "source": []
  },
  {
   "cell_type": "code",
   "execution_count": 284,
   "id": "247398c4",
   "metadata": {},
   "outputs": [],
   "source": [
    "import numpy as np\n",
    "X = np.random.random((32, 10))\n",
    "y = np.random.random((10,))"
   ]
  },
  {
   "cell_type": "code",
   "execution_count": 285,
   "id": "e610eaad",
   "metadata": {},
   "outputs": [],
   "source": [
    "y = np.expand_dims(y, axis=0)"
   ]
  },
  {
   "cell_type": "code",
   "execution_count": 286,
   "id": "a2942d67",
   "metadata": {},
   "outputs": [],
   "source": [
    "\n",
    "Y = np.concatenate([y] * 32, axis=0)"
   ]
  },
  {
   "cell_type": "code",
   "execution_count": 287,
   "id": "8e84da2c",
   "metadata": {},
   "outputs": [],
   "source": [
    "def naive_add_matrix_and_vector(x, y):\n",
    "    assert len(x.shape) == 2\n",
    "    assert len(y.shape) == 1\n",
    "    assert x.shape[1] == y.shape[0]\n",
    "    x = x.copy()\n",
    "    for i in range(x.shape[0]):\n",
    "        for j in range(x.shape[1]):\n",
    "            x[i, j] += y[j]\n",
    "    return x"
   ]
  },
  {
   "cell_type": "code",
   "execution_count": 288,
   "id": "4050de7a",
   "metadata": {},
   "outputs": [],
   "source": [
    "import numpy as np\n",
    "x = np.random.random((64, 3, 32, 10))\n",
    "y = np.random.random((32, 10))\n",
    "z = np.maximum(x, y)"
   ]
  },
  {
   "cell_type": "markdown",
   "id": "b14ee13d",
   "metadata": {},
   "source": [
    "# Tensor product"
   ]
  },
  {
   "cell_type": "code",
   "execution_count": 289,
   "id": "c672773e",
   "metadata": {},
   "outputs": [],
   "source": [
    "x = np.random.random((32,))\n",
    "y = np.random.random((32,))\n",
    "z = np.dot(x, y)"
   ]
  },
  {
   "cell_type": "code",
   "execution_count": 157,
   "id": "ae9fd460",
   "metadata": {},
   "outputs": [],
   "source": [
    "def naive_vector_dot(x, y):\n",
    "    assert len(x.shape) == 1\n",
    "    assert len(y.shape) == 1\n",
    "    assert x.shape[0] == y.shape[0]\n",
    "    z = 0.\n",
    "    for i in range(x.shape[0]):\n",
    "        z += x[i] * y[i]\n",
    "    return z"
   ]
  },
  {
   "cell_type": "code",
   "execution_count": 158,
   "id": "600e8ebd",
   "metadata": {},
   "outputs": [],
   "source": [
    "def naive_matrix_vector_dot(x, y):\n",
    "    assert len(x.shape) == 2\n",
    "    assert len(y.shape) == 1\n",
    "    assert x.shape[1] == y.shape[0]\n",
    "    z = np.zeros(x.shape[0])\n",
    "    for i in range(x.shape[0]):\n",
    "        for j in range(x.shape[1]):\n",
    "            z[i] += x[i, j] * y[j]\n",
    "    return z"
   ]
  },
  {
   "cell_type": "code",
   "execution_count": 159,
   "id": "6d2688c6",
   "metadata": {},
   "outputs": [],
   "source": [
    "def naive_matrix_vector_dot(x, y):\n",
    "    z = np.zeros(x.shape[0])\n",
    "    for i in range(x.shape[0]):\n",
    "        z[i] = naive_vector_dot(x[i, :], y)\n",
    "    return z"
   ]
  },
  {
   "cell_type": "code",
   "execution_count": 160,
   "id": "caed9aee",
   "metadata": {},
   "outputs": [],
   "source": [
    "def naive_matrix_dot(x, y):\n",
    "    assert len(x.shape) == 2\n",
    "    assert len(y.shape) == 2\n",
    "    assert x.shape[1] == y.shape[0]\n",
    "    z = np.zeros((x.shape[0], y.shape[1]))\n",
    "    for i in range(x.shape[0]):\n",
    "        for j in range(y.shape[1]):\n",
    "            row_x = x[i, :]\n",
    "            column_y = y[:, j]\n",
    "            z[i, j] = naive_vector_dot(row_x, column_y)\n",
    "    return z"
   ]
  },
  {
   "cell_type": "markdown",
   "id": "b74e7e67",
   "metadata": {},
   "source": [
    "# Tensor reshaping\n",
    "# 反正就都拿來改數據，來練習XD"
   ]
  },
  {
   "cell_type": "code",
   "execution_count": 169,
   "id": "8dfbdf52",
   "metadata": {},
   "outputs": [],
   "source": [
    "train_images = train_images.reshape((60000, 28 * 28))"
   ]
  },
  {
   "cell_type": "code",
   "execution_count": 295,
   "id": "d2574519",
   "metadata": {},
   "outputs": [
    {
     "data": {
      "text/plain": [
       "(3, 2)"
      ]
     },
     "execution_count": 295,
     "metadata": {},
     "output_type": "execute_result"
    }
   ],
   "source": [
    "x = np.array([[0., 1.],\n",
    "             [2., 3.],\n",
    "             [4., 5.]])\n",
    "x.shape"
   ]
  },
  {
   "cell_type": "code",
   "execution_count": 296,
   "id": "a51bb542",
   "metadata": {},
   "outputs": [
    {
     "data": {
      "text/plain": [
       "array([[0., 1., 2., 3., 4., 5.]])"
      ]
     },
     "execution_count": 296,
     "metadata": {},
     "output_type": "execute_result"
    }
   ],
   "source": [
    "x = x.reshape((1, 6))\n",
    "x"
   ]
  },
  {
   "cell_type": "code",
   "execution_count": 297,
   "id": "77ee3ea7",
   "metadata": {},
   "outputs": [
    {
     "data": {
      "text/plain": [
       "(2000, 1000)"
      ]
     },
     "execution_count": 297,
     "metadata": {},
     "output_type": "execute_result"
    }
   ],
   "source": [
    "x = np.zeros((1000, 2000))\n",
    "x = np.transpose(x)\n",
    "x.shape"
   ]
  },
  {
   "cell_type": "code",
   "execution_count": null,
   "id": "37828c66",
   "metadata": {},
   "outputs": [],
   "source": []
  },
  {
   "cell_type": "code",
   "execution_count": 326,
   "id": "ea49e0a1",
   "metadata": {},
   "outputs": [],
   "source": [
    "import tensorflow as tf\n",
    "x = tf.Variable(0.)\n",
    "with tf.GradientTape() as tape:\n",
    "    y = 2 * x + 3\n",
    "grad_of_y_wrt_x = tape.gradient(y, x)"
   ]
  },
  {
   "cell_type": "code",
   "execution_count": 327,
   "id": "d282dd46",
   "metadata": {},
   "outputs": [],
   "source": [
    "x = tf.Variable(tf.random.uniform((2, 2)))\n",
    "with tf.GradientTape() as tape:\n",
    "    y = 2 * x + 3\n",
    "grad_of_y_wrt_x = tape.gradient(y, x)"
   ]
  },
  {
   "cell_type": "code",
   "execution_count": 328,
   "id": "514e6317",
   "metadata": {},
   "outputs": [],
   "source": [
    "W = tf.Variable(tf.random.uniform((2, 2)))\n",
    "b = tf.Variable(tf.zeros((2,)))\n",
    "x = tf.random.uniform((2, 2))\n",
    "with tf.GradientTape() as tape:\n",
    "    y = tf.matmul(x, W) + b\n",
    "grad_of_y_wrt_W_and_b = tape.gradient(y, [W, b])"
   ]
  },
  {
   "cell_type": "markdown",
   "id": "4c806e21",
   "metadata": {},
   "source": [
    "# Looking back at our first example"
   ]
  },
  {
   "cell_type": "code",
   "execution_count": 330,
   "id": "61c74725",
   "metadata": {},
   "outputs": [],
   "source": [
    "(train_images, train_labels), (test_images, test_labels) = mnist.load_data()\n",
    "train_images = train_images.reshape((60000, 28 * 28))\n",
    "train_images = train_images.astype(\"float32\") / 255\n",
    "test_images = test_images.reshape((10000, 28 * 28))\n",
    "test_images = test_images.astype(\"float32\") / 255"
   ]
  },
  {
   "cell_type": "code",
   "execution_count": 331,
   "id": "f4e0317e",
   "metadata": {},
   "outputs": [],
   "source": [
    "model = keras.Sequential([\n",
    "    layers.Dense(512, activation=\"relu\"),\n",
    "    layers.Dense(10, activation=\"softmax\")\n",
    "])"
   ]
  },
  {
   "cell_type": "code",
   "execution_count": 332,
   "id": "a77b1c2a",
   "metadata": {},
   "outputs": [],
   "source": [
    "model.compile(optimizer=\"rmsprop\",\n",
    "              loss=\"sparse_categorical_crossentropy\",\n",
    "              metrics=[\"accuracy\"])"
   ]
  },
  {
   "cell_type": "code",
   "execution_count": 333,
   "id": "5d15adfa",
   "metadata": {},
   "outputs": [
    {
     "name": "stdout",
     "output_type": "stream",
     "text": [
      "Epoch 1/5\n",
      "469/469 [==============================] - 2s 4ms/step - loss: 0.2566 - accuracy: 0.9257\n",
      "Epoch 2/5\n",
      "469/469 [==============================] - 1s 3ms/step - loss: 0.1037 - accuracy: 0.9687\n",
      "Epoch 3/5\n",
      "469/469 [==============================] - 1s 3ms/step - loss: 0.0694 - accuracy: 0.9791\n",
      "Epoch 4/5\n",
      "469/469 [==============================] - 2s 3ms/step - loss: 0.0501 - accuracy: 0.9851\n",
      "Epoch 5/5\n",
      "469/469 [==============================] - 1s 3ms/step - loss: 0.0378 - accuracy: 0.9886\n"
     ]
    },
    {
     "data": {
      "text/plain": [
       "<keras.callbacks.History at 0x16097ba7a00>"
      ]
     },
     "execution_count": 333,
     "metadata": {},
     "output_type": "execute_result"
    }
   ],
   "source": [
    "\n",
    "model.fit(train_images, train_labels, epochs=5, batch_size=128)"
   ]
  },
  {
   "cell_type": "markdown",
   "id": "3012b2a7",
   "metadata": {},
   "source": [
    "# A simple Sequential class"
   ]
  },
  {
   "cell_type": "code",
   "execution_count": 318,
   "id": "d3f155f4",
   "metadata": {},
   "outputs": [],
   "source": [
    "import tensorflow as tf\n",
    "\n",
    "class NaiveDense:\n",
    "    def __init__(self, input_size, output_size, activation):\n",
    "        self.activation = activation\n",
    "\n",
    "        w_shape = (input_size, output_size)\n",
    "        w_initial_value = tf.random.uniform(w_shape, minval=0, maxval=1e-1)\n",
    "        self.W = tf.Variable(w_initial_value)\n",
    "\n",
    "        b_shape = (output_size,)\n",
    "        b_initial_value = tf.zeros(b_shape)\n",
    "        self.b = tf.Variable(b_initial_value)\n",
    "\n",
    "    def __call__(self, inputs):\n",
    "        return self.activation(tf.matmul(inputs, self.W) + self.b)\n",
    "\n",
    "    @property\n",
    "    def weights(self):\n",
    "        return [self.W, self.b]"
   ]
  },
  {
   "cell_type": "code",
   "execution_count": 319,
   "id": "b78f5eee",
   "metadata": {},
   "outputs": [],
   "source": [
    "class NaiveSequential:\n",
    "    def __init__(self, layers):\n",
    "        self.layers = layers\n",
    "\n",
    "    def __call__(self, inputs):\n",
    "        x = inputs\n",
    "        for layer in self.layers:\n",
    "           x = layer(x)\n",
    "        return x\n",
    "\n",
    "    @property\n",
    "    def weights(self):\n",
    "       weights = []\n",
    "       for layer in self.layers:\n",
    "           weights += layer.weights\n",
    "       return weights"
   ]
  },
  {
   "cell_type": "code",
   "execution_count": 320,
   "id": "306c2342",
   "metadata": {},
   "outputs": [],
   "source": [
    "model = NaiveSequential([\n",
    "    NaiveDense(input_size=28 * 28, output_size=512, activation=tf.nn.relu),\n",
    "    NaiveDense(input_size=512, output_size=10, activation=tf.nn.softmax)\n",
    "])\n",
    "assert len(model.weights) == 4"
   ]
  },
  {
   "cell_type": "markdown",
   "id": "104f8c17",
   "metadata": {},
   "source": [
    "### A batch generator"
   ]
  },
  {
   "cell_type": "code",
   "execution_count": 308,
   "id": "9d1ae304",
   "metadata": {},
   "outputs": [],
   "source": [
    "import math\n",
    "\n",
    "class BatchGenerator:\n",
    "    def __init__(self, images, labels, batch_size=128):\n",
    "        assert len(images) == len(labels)\n",
    "        self.index = 0\n",
    "        self.images = images\n",
    "        self.labels = labels\n",
    "        self.batch_size = batch_size\n",
    "        self.num_batches = math.ceil(len(images) / batch_size)\n",
    "\n",
    "    def next(self):\n",
    "        images = self.images[self.index : self.index + self.batch_size]\n",
    "        labels = self.labels[self.index : self.index + self.batch_size]\n",
    "        self.index += self.batch_size\n",
    "        return images, labels"
   ]
  },
  {
   "cell_type": "markdown",
   "id": "3fc8d416",
   "metadata": {},
   "source": [
    "# Running one training step"
   ]
  },
  {
   "cell_type": "code",
   "execution_count": 311,
   "id": "5da8ccdb",
   "metadata": {},
   "outputs": [],
   "source": [
    "def one_training_step(model, images_batch, labels_batch):\n",
    "    with tf.GradientTape() as tape:\n",
    "        predictions = model(images_batch)\n",
    "        per_sample_losses = tf.keras.losses.sparse_categorical_crossentropy(\n",
    "            labels_batch, predictions)\n",
    "        average_loss = tf.reduce_mean(per_sample_losses)\n",
    "    gradients = tape.gradient(average_loss, model.weights)\n",
    "    update_weights(gradients, model.weights)\n",
    "    return average_loss"
   ]
  },
  {
   "cell_type": "code",
   "execution_count": 312,
   "id": "fefc61ff",
   "metadata": {},
   "outputs": [],
   "source": [
    "learning_rate = 1e-3\n",
    "\n",
    "def update_weights(gradients, weights):\n",
    "    for g, w in zip(gradients, weights):\n",
    "        w.assign_sub(g * learning_rate)"
   ]
  },
  {
   "cell_type": "code",
   "execution_count": 313,
   "id": "5d0802ed",
   "metadata": {},
   "outputs": [],
   "source": [
    "from tensorflow.keras import optimizers\n",
    "\n",
    "optimizer = optimizers.SGD(learning_rate=1e-3)\n",
    "\n",
    "def update_weights(gradients, weights):\n",
    "    optimizer.apply_gradients(zip(gradients, weights))"
   ]
  },
  {
   "cell_type": "markdown",
   "id": "73d759b3",
   "metadata": {},
   "source": [
    "# The full training loop"
   ]
  },
  {
   "cell_type": "code",
   "execution_count": 314,
   "id": "587df34f",
   "metadata": {},
   "outputs": [],
   "source": [
    "def fit(model, images, labels, epochs, batch_size=128):\n",
    "    for epoch_counter in range(epochs):\n",
    "        print(f\"Epoch {epoch_counter}\")\n",
    "        batch_generator = BatchGenerator(images, labels)\n",
    "        for batch_counter in range(batch_generator.num_batches):\n",
    "            images_batch, labels_batch = batch_generator.next()\n",
    "            loss = one_training_step(model, images_batch, labels_batch)\n",
    "            if batch_counter % 100 == 0:\n",
    "                print(f\"loss at batch {batch_counter}: {loss:.2f}\")"
   ]
  },
  {
   "cell_type": "code",
   "execution_count": 315,
   "id": "a6b48244",
   "metadata": {},
   "outputs": [
    {
     "name": "stdout",
     "output_type": "stream",
     "text": [
      "Epoch 0\n",
      "loss at batch 0: 3.79\n",
      "loss at batch 100: 2.24\n",
      "loss at batch 200: 2.22\n",
      "loss at batch 300: 2.09\n",
      "loss at batch 400: 2.24\n",
      "Epoch 1\n",
      "loss at batch 0: 1.92\n",
      "loss at batch 100: 1.89\n",
      "loss at batch 200: 1.85\n",
      "loss at batch 300: 1.72\n",
      "loss at batch 400: 1.85\n",
      "Epoch 2\n",
      "loss at batch 0: 1.61\n",
      "loss at batch 100: 1.59\n",
      "loss at batch 200: 1.52\n",
      "loss at batch 300: 1.43\n",
      "loss at batch 400: 1.53\n",
      "Epoch 3\n",
      "loss at batch 0: 1.34\n",
      "loss at batch 100: 1.35\n",
      "loss at batch 200: 1.25\n",
      "loss at batch 300: 1.22\n",
      "loss at batch 400: 1.29\n",
      "Epoch 4\n",
      "loss at batch 0: 1.14\n",
      "loss at batch 100: 1.17\n",
      "loss at batch 200: 1.05\n",
      "loss at batch 300: 1.05\n",
      "loss at batch 400: 1.12\n",
      "Epoch 5\n",
      "loss at batch 0: 1.00\n",
      "loss at batch 100: 1.03\n",
      "loss at batch 200: 0.91\n",
      "loss at batch 300: 0.93\n",
      "loss at batch 400: 1.00\n",
      "Epoch 6\n",
      "loss at batch 0: 0.88\n",
      "loss at batch 100: 0.92\n",
      "loss at batch 200: 0.81\n",
      "loss at batch 300: 0.84\n",
      "loss at batch 400: 0.91\n",
      "Epoch 7\n",
      "loss at batch 0: 0.80\n",
      "loss at batch 100: 0.83\n",
      "loss at batch 200: 0.73\n",
      "loss at batch 300: 0.77\n",
      "loss at batch 400: 0.84\n",
      "Epoch 8\n",
      "loss at batch 0: 0.73\n",
      "loss at batch 100: 0.76\n",
      "loss at batch 200: 0.66\n",
      "loss at batch 300: 0.72\n",
      "loss at batch 400: 0.79\n",
      "Epoch 9\n",
      "loss at batch 0: 0.68\n",
      "loss at batch 100: 0.71\n",
      "loss at batch 200: 0.61\n",
      "loss at batch 300: 0.67\n",
      "loss at batch 400: 0.75\n"
     ]
    }
   ],
   "source": [
    "from tensorflow.keras.datasets import mnist\n",
    "(train_images, train_labels), (test_images, test_labels) = mnist.load_data()\n",
    "\n",
    "train_images = train_images.reshape((60000, 28 * 28))\n",
    "train_images = train_images.astype(\"float32\") / 255\n",
    "test_images = test_images.reshape((10000, 28 * 28))\n",
    "test_images = test_images.astype(\"float32\") / 255\n",
    "\n",
    "fit(model, train_images, train_labels, epochs=10, batch_size=128)"
   ]
  },
  {
   "cell_type": "code",
   "execution_count": 316,
   "id": "6b5e7dcc",
   "metadata": {},
   "outputs": [
    {
     "name": "stdout",
     "output_type": "stream",
     "text": [
      "accuracy: 0.82\n"
     ]
    }
   ],
   "source": [
    "predictions = model(test_images)\n",
    "predictions = predictions.numpy()\n",
    "predicted_labels = np.argmax(predictions, axis=1)\n",
    "matches = predicted_labels == test_labels\n",
    "print(f\"accuracy: {matches.mean():.2f}\")"
   ]
  },
  {
   "cell_type": "code",
   "execution_count": 317,
   "id": "951d0dce",
   "metadata": {},
   "outputs": [
    {
     "data": {
      "text/plain": [
       "4"
      ]
     },
     "execution_count": 317,
     "metadata": {},
     "output_type": "execute_result"
    }
   ],
   "source": [
    "train_images.itemsize"
   ]
  }
 ],
 "metadata": {
  "kernelspec": {
   "display_name": "Python 3 (ipykernel)",
   "language": "python",
   "name": "python3"
  },
  "language_info": {
   "codemirror_mode": {
    "name": "ipython",
    "version": 3
   },
   "file_extension": ".py",
   "mimetype": "text/x-python",
   "name": "python",
   "nbconvert_exporter": "python",
   "pygments_lexer": "ipython3",
   "version": "3.9.12"
  }
 },
 "nbformat": 4,
 "nbformat_minor": 5
}
